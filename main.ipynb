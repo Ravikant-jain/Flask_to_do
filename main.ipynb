{
 "cells": [
  {
   "cell_type": "code",
   "execution_count": 38,
   "metadata": {},
   "outputs": [
    {
     "name": "stdout",
     "output_type": "stream",
     "text": [
      "{}\n",
      "{1: {'Time': '2025-03-21 01:38:28', 'Task': 'fuck life'}}\n"
     ]
    }
   ],
   "source": [
    "import pandas as pd\n",
    "import numpy as np\n",
    "from datetime import datetime\n",
    "\n",
    "\n",
    "data={}\n",
    "\n",
    "print(data)\n",
    "\n",
    "def create_tsk(tsk,id,data):\n",
    "    data[id]={'Time': datetime.now().strftime(\"%Y-%m-%d %H:%M:%S\"),\n",
    "              'Task':tsk}\n",
    "\n",
    "create_tsk('fuck life',1,data)\n",
    "print(data)"
   ]
  },
  {
   "cell_type": "code",
   "execution_count": 39,
   "metadata": {},
   "outputs": [],
   "source": [
    "def edit_tsk(n_tsk,id,data):\n",
    "    n_tsk=\"* \"+n_tsk\n",
    "    data[id]['Task'] = n_tsk\n",
    "edit_tsk('noicely',1,data)"
   ]
  },
  {
   "cell_type": "code",
   "execution_count": 40,
   "metadata": {},
   "outputs": [
    {
     "data": {
      "text/plain": [
       "{1: {'Time': '2025-03-21 01:38:28', 'Task': '* noicely'}}"
      ]
     },
     "execution_count": 40,
     "metadata": {},
     "output_type": "execute_result"
    }
   ],
   "source": [
    "data"
   ]
  },
  {
   "cell_type": "code",
   "execution_count": 45,
   "metadata": {},
   "outputs": [
    {
     "name": "stdout",
     "output_type": "stream",
     "text": [
      "{1: {'Time': '2025-03-21 01:38:28', 'Task': '* noicely'}, 2: {'Time': '2025-03-21 01:44:15', 'Task': 'die'}}\n"
     ]
    }
   ],
   "source": [
    "create_tsk('die',2,data)\n",
    "print(data)"
   ]
  },
  {
   "cell_type": "code",
   "execution_count": 42,
   "metadata": {},
   "outputs": [
    {
     "name": "stdout",
     "output_type": "stream",
     "text": [
      " task deleted --> die\n"
     ]
    },
    {
     "data": {
      "text/plain": [
       "{1: {'Time': '2025-03-21 01:38:28', 'Task': '* noicely'}}"
      ]
     },
     "execution_count": 42,
     "metadata": {},
     "output_type": "execute_result"
    }
   ],
   "source": [
    "def delete_tsk(id,data):\n",
    "    item=data.pop(id)\n",
    "    print(f\" task deleted --> {item['Task']}\")\n",
    "    return item['Task']\n",
    "    \n",
    "delete_tsk(2,data)\n",
    "data"
   ]
  },
  {
   "cell_type": "code",
   "execution_count": 43,
   "metadata": {},
   "outputs": [
    {
     "data": {
      "text/plain": [
       "'* noicely'"
      ]
     },
     "execution_count": 43,
     "metadata": {},
     "output_type": "execute_result"
    }
   ],
   "source": [
    "def read_tsk(id,data):\n",
    "    return data[id]['Task']\n",
    "\n",
    "\n",
    "read_tsk(1,data)"
   ]
  },
  {
   "cell_type": "code",
   "execution_count": 47,
   "metadata": {},
   "outputs": [
    {
     "name": "stdout",
     "output_type": "stream",
     "text": [
      "{1: {'Time': '2025-03-21 01:38:28', 'Task': '* noicely'}, 2: {'Time': '2025-03-21 01:44:15', 'Task': 'die'}, 3: {'Time': '2025-03-21 01:44:34', 'Task': 'learn pythoon'}, 5: {'Time': '2025-03-21 01:44:48', 'Task': 'get a job'}}\n"
     ]
    }
   ],
   "source": [
    "create_tsk('get a job',5,data)\n",
    "print(data)"
   ]
  },
  {
   "cell_type": "code",
   "execution_count": 48,
   "metadata": {},
   "outputs": [
    {
     "data": {
      "text/plain": [
       "{1: {'Time': '2025-03-21 01:38:28', 'Task': '* noicely'},\n",
       " 2: {'Time': '2025-03-21 01:44:15', 'Task': 'die'},\n",
       " 3: {'Time': '2025-03-21 01:44:34', 'Task': 'learn pythoon'},\n",
       " 5: {'Time': '2025-03-21 01:44:48', 'Task': 'get a job'}}"
      ]
     },
     "execution_count": 48,
     "metadata": {},
     "output_type": "execute_result"
    }
   ],
   "source": [
    "data"
   ]
  },
  {
   "cell_type": "code",
   "execution_count": 50,
   "metadata": {},
   "outputs": [],
   "source": [
    "import json \n",
    "\n",
    "with open(r\"data/data.json\", \"w\") as file:\n",
    "    json.dump(data, file, indent=4)"
   ]
  },
  {
   "cell_type": "code",
   "execution_count": 1,
   "metadata": {},
   "outputs": [
    {
     "name": "stdout",
     "output_type": "stream",
     "text": [
      "Data loaded: {'0': {'Time': '2025-03-21 01:38:28', 'Task': '* noicely'}, '1': {'Time': '2025-03-21 01:44:15', 'Task': 'die'}, '2': {'Time': '2025-03-21 01:44:34', 'Task': 'learn pythoon'}, '3': {'Time': '2025-03-21 01:44:48', 'Task': 'get a job'}, '4': {'Time': '2025-03-21 02:52:57', 'Task': 'finally adding via ui'}, '5': {'Time': '2025-03-21 03:03:41', 'Task': 'will delete this'}}\n"
     ]
    }
   ],
   "source": [
    "import json\n",
    "import os\n",
    "\n",
    "# Define the folder and file path\n",
    "folder_path = \"data\"\n",
    "file_path = os.path.join(folder_path, \"data.json\")\n",
    "\n",
    "# Check if the file exists\n",
    "if os.path.exists(file_path):\n",
    "    # Read the existing JSON file\n",
    "    with open(file_path, \"r\") as file:\n",
    "        try:\n",
    "            data = json.load(file)  # Load data into a dictionary\n",
    "        except json.JSONDecodeError:\n",
    "            data = {}  # If the file is empty or corrupted, initialize as empty\n",
    "else:\n",
    "    # Create an empty JSON file and initialize an empty dictionary\n",
    "    data = {}\n",
    "    with open(file_path, \"w\") as file:\n",
    "        json.dump(data, file)\n",
    "\n",
    "print(f\"Data loaded: {data}\")"
   ]
  },
  {
   "cell_type": "code",
   "execution_count": 2,
   "metadata": {},
   "outputs": [
    {
     "data": {
      "text/plain": [
       "dict_values([{'Time': '2025-03-21 01:38:28', 'Task': '* noicely'}, {'Time': '2025-03-21 01:44:15', 'Task': 'die'}, {'Time': '2025-03-21 01:44:34', 'Task': 'learn pythoon'}, {'Time': '2025-03-21 01:44:48', 'Task': 'get a job'}, {'Time': '2025-03-21 02:52:57', 'Task': 'finally adding via ui'}, {'Time': '2025-03-21 03:03:41', 'Task': 'will delete this'}])"
      ]
     },
     "execution_count": 2,
     "metadata": {},
     "output_type": "execute_result"
    }
   ],
   "source": [
    "data.values()"
   ]
  },
  {
   "cell_type": "code",
   "execution_count": 10,
   "metadata": {},
   "outputs": [
    {
     "name": "stdout",
     "output_type": "stream",
     "text": [
      "{'Time': '2025-03-21 01:38:28', 'Task': '* noicely'}\n",
      "* noicely\n",
      "{'Time': '2025-03-21 01:44:15', 'Task': 'die'}\n",
      "die\n",
      "{'Time': '2025-03-21 01:44:34', 'Task': 'learn pythoon'}\n",
      "learn pythoon\n",
      "{'Time': '2025-03-21 01:44:48', 'Task': 'get a job'}\n",
      "get a job\n",
      "{'Time': '2025-03-21 02:52:57', 'Task': 'finally adding via ui'}\n",
      "finally adding via ui\n",
      "{'Time': '2025-03-21 03:03:41', 'Task': 'will delete this'}\n",
      "will delete this\n"
     ]
    }
   ],
   "source": [
    "for i in data:\n",
    "    print(data[i])\n",
    "    print(data[i]['Task'])\n",
    "    \n",
    "    # print(i['Task'])"
   ]
  },
  {
   "cell_type": "code",
   "execution_count": null,
   "metadata": {},
   "outputs": [],
   "source": []
  }
 ],
 "metadata": {
  "kernelspec": {
   "display_name": "Python 3",
   "language": "python",
   "name": "python3"
  },
  "language_info": {
   "codemirror_mode": {
    "name": "ipython",
    "version": 3
   },
   "file_extension": ".py",
   "mimetype": "text/x-python",
   "name": "python",
   "nbconvert_exporter": "python",
   "pygments_lexer": "ipython3",
   "version": "3.10.5"
  }
 },
 "nbformat": 4,
 "nbformat_minor": 2
}
